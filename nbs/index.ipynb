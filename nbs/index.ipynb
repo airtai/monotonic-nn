{
 "cells": [
  {
   "cell_type": "markdown",
   "metadata": {},
   "source": [
    "# Tutorial\n"
   ]
  },
  {
   "cell_type": "markdown",
   "metadata": {},
   "source": [
    "This Python library implements Monotonic Dense Layer as described in Davor Runje, Sharath M. Shankaranarayana, \"Constrained Monotonic Neural Networks\" [[PDF](https://arxiv.org/pdf/2205.11775.pdf)].\n",
    "\n",
    "If you use this library, please cite:\n",
    "\n",
    "``` title=\"bibtex\"\n",
    "@inproceedings{runje2023,\n",
    "  title={Constrained Monotonic Neural Networks},\n",
    "  author={Davor Runje and Sharath M. Shankaranarayana},\n",
    "  booktitle={Proceedings of the 40th {International Conference on Machine Learning}},\n",
    "  year={2023}\n",
    "}\n",
    "```\n",
    "\n"
   ]
  },
  {
   "cell_type": "markdown",
   "metadata": {},
   "source": [
    "This package contains an implementation of our Monotonic Dense Layer `MonoDense` (Constrained Monotonic Fully Connected Layer). Below is the figure from the paper for reference.\n",
    "\n",
    "In the code, the variable `monotonicity_indicator` corresponds to **t** in the figure and parameters `is_convex`, `is_concave` and `activation_weights` are used to calculate the activation selector **s** as follows:\n",
    "\n",
    "- if `is_convex` or `is_concave` is **True**, then the activation selector **s** will be (`units`, 0, 0) and (0, `units`, 0), respecively.\n",
    "\n",
    "- if both  `is_convex` or `is_concave` is **False**, then the `activation_weights` represent ratios between $\\breve{s}$, $\\hat{s}$ and $\\tilde{s}$, respecively. E.g. if `activation_weights = (2, 2, 1)` and `units = 10`, then\n",
    "\n",
    "$$\n",
    "(\\breve{s}, \\hat{s}, \\tilde{s}) = (4, 4, 2)\n",
    "$$"
   ]
  },
  {
   "cell_type": "markdown",
   "metadata": {},
   "source": [
    "![mono-dense-layer-diagram](https://github.com/airtai/mono-dense-keras/raw/main/nbs/images/mono-dense-layer-diagram.png)"
   ]
  },
  {
   "cell_type": "markdown",
   "metadata": {},
   "source": [
    "## Running in Google Colab\n",
    "\n",
    "You can start this interactive tutorial in Google Colab by clicking the button below:\n",
    "    \n",
    "<a href=\"https://colab.research.google.com/github/airtai/monotonic-nn/blob/main/nbs/index.ipynb\" target=”_blank”>\n",
    "  <img src=\"https://colab.research.google.com/assets/colab-badge.svg\" alt=\"Open in Colab\" />\n",
    "</a>"
   ]
  },
  {
   "cell_type": "code",
   "execution_count": null,
   "metadata": {},
   "outputs": [],
   "source": [
    "# | hide\n",
    "\n",
    "from IPython.display import Markdown, display_markdown\n",
    "\n",
    "try:\n",
    "    import google.colab\n",
    "\n",
    "    in_colab = True\n",
    "except:\n",
    "    in_colab = False\n",
    "\n",
    "if in_colab:\n",
    "    display(\n",
    "        Markdown(\n",
    "            \"\"\"\n",
    "### If you see this message, you are running in Google Colab\n",
    "Along with this interactive tutorial the content of this notebook is organized and formatted for documentation purpuoses. \n",
    "\n",
    "You can ignore the '# | hide', '# | notest' and '# | echo: false' comments, they are not important for the tutorial.\n",
    "    \"\"\"\n",
    "        )\n",
    "    )"
   ]
  },
  {
   "cell_type": "markdown",
   "metadata": {},
   "source": [
    "## Install"
   ]
  },
  {
   "cell_type": "markdown",
   "metadata": {},
   "source": [
    "``` sh\n",
    "pip install monotonic-nn\n",
    "```"
   ]
  },
  {
   "cell_type": "code",
   "execution_count": null,
   "metadata": {},
   "outputs": [],
   "source": [
    "# | hide\n",
    "\n",
    "if in_colab:\n",
    "    !pip install monotonic-nn"
   ]
  },
  {
   "cell_type": "markdown",
   "metadata": {},
   "source": [
    "## How to use"
   ]
  },
  {
   "cell_type": "code",
   "execution_count": null,
   "metadata": {},
   "outputs": [],
   "source": [
    "# | hide\n",
    "\n",
    "import os\n",
    "\n",
    "os.environ[\"TF_FORCE_GPU_ALLOW_GROWTH\"] = \"true\""
   ]
  },
  {
   "cell_type": "markdown",
   "metadata": {},
   "source": [
    "In this example, we'll assume we have a simple dataset with three inputs values $x_1$, $x_2$ and $x_3$ sampled from the normal distribution, while the output value $y$ is calculated according to the following formula before adding Gaussian noise to it:\n",
    "\n",
    "$y = x_1^3 + \\sin\\left(\\frac{x_2}{2 \\pi}\\right) + e^{-x_3}$"
   ]
  },
  {
   "cell_type": "code",
   "execution_count": null,
   "metadata": {},
   "outputs": [
    {
     "data": {
      "text/html": [
       "<style type=\"text/css\">\n",
       "</style>\n",
       "<table id=\"T_37b51\">\n",
       "  <thead>\n",
       "    <tr>\n",
       "      <th id=\"T_37b51_level0_col0\" class=\"col_heading level0 col0\" >x0</th>\n",
       "      <th id=\"T_37b51_level0_col1\" class=\"col_heading level0 col1\" >x1</th>\n",
       "      <th id=\"T_37b51_level0_col2\" class=\"col_heading level0 col2\" >x2</th>\n",
       "      <th id=\"T_37b51_level0_col3\" class=\"col_heading level0 col3\" >y</th>\n",
       "    </tr>\n",
       "  </thead>\n",
       "  <tbody>\n",
       "    <tr>\n",
       "      <td id=\"T_37b51_row0_col0\" class=\"data row0 col0\" >0.304717</td>\n",
       "      <td id=\"T_37b51_row0_col1\" class=\"data row0 col1\" >-1.039984</td>\n",
       "      <td id=\"T_37b51_row0_col2\" class=\"data row0 col2\" >0.750451</td>\n",
       "      <td id=\"T_37b51_row0_col3\" class=\"data row0 col3\" >0.234541</td>\n",
       "    </tr>\n",
       "    <tr>\n",
       "      <td id=\"T_37b51_row1_col0\" class=\"data row1 col0\" >0.940565</td>\n",
       "      <td id=\"T_37b51_row1_col1\" class=\"data row1 col1\" >-1.951035</td>\n",
       "      <td id=\"T_37b51_row1_col2\" class=\"data row1 col2\" >-1.302180</td>\n",
       "      <td id=\"T_37b51_row1_col3\" class=\"data row1 col3\" >4.199094</td>\n",
       "    </tr>\n",
       "    <tr>\n",
       "      <td id=\"T_37b51_row2_col0\" class=\"data row2 col0\" >0.127840</td>\n",
       "      <td id=\"T_37b51_row2_col1\" class=\"data row2 col1\" >-0.316243</td>\n",
       "      <td id=\"T_37b51_row2_col2\" class=\"data row2 col2\" >-0.016801</td>\n",
       "      <td id=\"T_37b51_row2_col3\" class=\"data row2 col3\" >0.834086</td>\n",
       "    </tr>\n",
       "    <tr>\n",
       "      <td id=\"T_37b51_row3_col0\" class=\"data row3 col0\" >-0.853044</td>\n",
       "      <td id=\"T_37b51_row3_col1\" class=\"data row3 col1\" >0.879398</td>\n",
       "      <td id=\"T_37b51_row3_col2\" class=\"data row3 col2\" >0.777792</td>\n",
       "      <td id=\"T_37b51_row3_col3\" class=\"data row3 col3\" >-0.093359</td>\n",
       "    </tr>\n",
       "    <tr>\n",
       "      <td id=\"T_37b51_row4_col0\" class=\"data row4 col0\" >0.066031</td>\n",
       "      <td id=\"T_37b51_row4_col1\" class=\"data row4 col1\" >1.127241</td>\n",
       "      <td id=\"T_37b51_row4_col2\" class=\"data row4 col2\" >0.467509</td>\n",
       "      <td id=\"T_37b51_row4_col3\" class=\"data row4 col3\" >0.780875</td>\n",
       "    </tr>\n",
       "  </tbody>\n",
       "</table>\n"
      ],
      "text/plain": [
       "<pandas.io.formats.style.Styler>"
      ]
     },
     "execution_count": null,
     "metadata": {},
     "output_type": "execute_result"
    }
   ],
   "source": [
    "# | echo: false\n",
    "\n",
    "import numpy as np\n",
    "import pandas as pd\n",
    "\n",
    "rng = np.random.default_rng(42)\n",
    "\n",
    "\n",
    "def generate_data(no_samples: int, noise: float):\n",
    "    x = rng.normal(size=(no_samples, 3))\n",
    "    y = x[:, 0] ** 3\n",
    "    y += np.sin(x[:, 1] / (2 * np.pi))\n",
    "    y += np.exp(-x[:, 2])\n",
    "    y += noise * rng.normal(size=no_samples)\n",
    "    return x, y\n",
    "\n",
    "\n",
    "x_train, y_train = generate_data(10_000, noise=0.1)\n",
    "x_val, y_val = generate_data(10_000, noise=0.0)\n",
    "\n",
    "d = {f\"x{i}\": x_train[:5, i] for i in range(3)}\n",
    "d[\"y\"] = y_train[:5]\n",
    "pd.DataFrame(d).style.hide(axis=\"index\")"
   ]
  },
  {
   "cell_type": "markdown",
   "metadata": {},
   "source": [
    "Now, we'll use the `MonoDense` layer instead of `Dense` layer to build a simple monotonic network. By default, the `MonoDense` layer assumes the output of the layer is monotonically increasing with all inputs. This assumtion is always true for all layers except possibly the first one. For the first layer, we use `monotonicity_indicator` to specify which input parameters are monotonic and to specify are they increasingly or decreasingly monotonic:\n",
    "\n",
    "- set 1 for increasingly monotonic parameter,\n",
    "\n",
    "- set -1 for decreasingly monotonic parameter, and\n",
    "\n",
    "- set 0 otherwise.\n",
    "\n",
    "In our case, the `monotonicity_indicator` is `[1, 0, -1]` because $y$ is:\n",
    "- monotonically increasing w.r.t. $x_1$ $\\left(\\frac{\\partial y}{x_1} = 3 {x_1}^2 \\geq 0\\right)$, and\n",
    "\n",
    "- monotonically decreasing w.r.t. $x_3$ $\\left(\\frac{\\partial y}{x_3} = - e^{-x_2} \\leq 0\\right)$.\n"
   ]
  },
  {
   "cell_type": "code",
   "execution_count": null,
   "metadata": {},
   "outputs": [
    {
     "name": "stdout",
     "output_type": "stream",
     "text": [
      "Model: \"sequential\"\n",
      "_________________________________________________________________\n",
      " Layer (type)                Output Shape              Param #   \n",
      "=================================================================\n",
      " mono_dense (MonoDense)      (None, 128)               512       \n",
      "                                                                 \n",
      " mono_dense_1 (MonoDense)    (None, 128)               16512     \n",
      "                                                                 \n",
      " mono_dense_2 (MonoDense)    (None, 1)                 129       \n",
      "                                                                 \n",
      "=================================================================\n",
      "Total params: 17,153\n",
      "Trainable params: 17,153\n",
      "Non-trainable params: 0\n",
      "_________________________________________________________________\n"
     ]
    }
   ],
   "source": [
    "from tensorflow.keras import Sequential\n",
    "from tensorflow.keras.layers import Dense, Input\n",
    "\n",
    "from airt.keras.layers import MonoDense\n",
    "\n",
    "model = Sequential()\n",
    "\n",
    "model.add(Input(shape=(3,)))\n",
    "monotonicity_indicator = [1, 0, -1]\n",
    "model.add(\n",
    "    MonoDense(128, activation=\"elu\", monotonicity_indicator=monotonicity_indicator)\n",
    ")\n",
    "model.add(MonoDense(128, activation=\"elu\"))\n",
    "model.add(MonoDense(1))\n",
    "\n",
    "model.summary()"
   ]
  },
  {
   "cell_type": "markdown",
   "metadata": {},
   "source": [
    "Now we can train the model as usual using `Model.fit`:"
   ]
  },
  {
   "cell_type": "code",
   "execution_count": null,
   "metadata": {},
   "outputs": [
    {
     "name": "stdout",
     "output_type": "stream",
     "text": [
      "Epoch 1/10\n",
      "313/313 [==============================] - 3s 5ms/step - loss: 9.4221 - val_loss: 6.1277\n",
      "Epoch 2/10\n",
      "313/313 [==============================] - 1s 4ms/step - loss: 4.6001 - val_loss: 2.7813\n",
      "Epoch 3/10\n",
      "313/313 [==============================] - 1s 4ms/step - loss: 1.6221 - val_loss: 2.1111\n",
      "Epoch 4/10\n",
      "313/313 [==============================] - 1s 4ms/step - loss: 0.9479 - val_loss: 0.2976\n",
      "Epoch 5/10\n",
      "313/313 [==============================] - 1s 4ms/step - loss: 0.9008 - val_loss: 0.3240\n",
      "Epoch 6/10\n",
      "313/313 [==============================] - 1s 4ms/step - loss: 0.5027 - val_loss: 0.1455\n",
      "Epoch 7/10\n",
      "313/313 [==============================] - 1s 4ms/step - loss: 0.4360 - val_loss: 0.1144\n",
      "Epoch 8/10\n",
      "313/313 [==============================] - 1s 4ms/step - loss: 0.4993 - val_loss: 0.1211\n",
      "Epoch 9/10\n",
      "313/313 [==============================] - 1s 4ms/step - loss: 0.3162 - val_loss: 1.0021\n",
      "Epoch 10/10\n",
      "313/313 [==============================] - 1s 4ms/step - loss: 0.2640 - val_loss: 0.2522\n"
     ]
    },
    {
     "data": {
      "text/plain": [
       "<keras.callbacks.History>"
      ]
     },
     "execution_count": null,
     "metadata": {},
     "output_type": "execute_result"
    }
   ],
   "source": [
    "from tensorflow.keras.optimizers import Adam\n",
    "from tensorflow.keras.optimizers.schedules import ExponentialDecay\n",
    "\n",
    "lr_schedule = ExponentialDecay(\n",
    "    initial_learning_rate=0.01,\n",
    "    decay_steps=10_000 // 32,\n",
    "    decay_rate=0.9,\n",
    ")\n",
    "optimizer = Adam(learning_rate=lr_schedule)\n",
    "model.compile(optimizer=optimizer, loss=\"mse\")\n",
    "\n",
    "model.fit(\n",
    "    x=x_train, y=y_train, batch_size=32, validation_data=(x_val, y_val), epochs=10\n",
    ")"
   ]
  },
  {
   "cell_type": "markdown",
   "metadata": {},
   "source": [
    "## License"
   ]
  },
  {
   "cell_type": "markdown",
   "metadata": {},
   "source": [
    "<a rel=\"license\" href=\"http://creativecommons.org/licenses/by-nc-sa/4.0/\"><img alt=\"Creative Commons Licence\" style=\"border-width:0\" src=\"https://i.creativecommons.org/l/by-nc-sa/4.0/88x31.png\" /></a><br />This work is licensed under a <a rel=\"license\" href=\"http://creativecommons.org/licenses/by-nc-sa/4.0/\">Creative Commons Attribution-NonCommercial-ShareAlike 4.0 International License</a>.\n",
    "\n",
    "You are free to:\n",
    "- Share — copy and redistribute the material in any medium or format\n",
    "\n",
    "- Adapt — remix, transform, and build upon the material\n",
    "\n",
    "The licensor cannot revoke these freedoms as long as you follow the license terms.\n",
    "\n",
    "Under the following terms:\n",
    "- Attribution — You must give appropriate credit, provide a link to the license, and indicate if changes were made. You may do so in any reasonable manner, but not in any way that suggests the licensor endorses you or your use.\n",
    "\n",
    "- NonCommercial — You may not use the material for commercial purposes.\n",
    "\n",
    "- ShareAlike — If you remix, transform, or build upon the material, you must distribute your contributions under the same license as the original.\n",
    "\n",
    "- No additional restrictions — You may not apply legal terms or technological measures that legally restrict others from doing anything the license permits."
   ]
  },
  {
   "cell_type": "code",
   "execution_count": null,
   "metadata": {},
   "outputs": [],
   "source": []
  }
 ],
 "metadata": {
  "kernelspec": {
   "display_name": "python3",
   "language": "python",
   "name": "python3"
  }
 },
 "nbformat": 4,
 "nbformat_minor": 4
}
