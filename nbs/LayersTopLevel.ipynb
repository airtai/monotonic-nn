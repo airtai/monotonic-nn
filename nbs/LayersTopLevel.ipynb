{
 "cells": [
  {
   "cell_type": "code",
   "execution_count": null,
   "id": "d1a55b47",
   "metadata": {},
   "outputs": [],
   "source": [
    "# | default_exp keras.layers.__init__"
   ]
  },
  {
   "cell_type": "code",
   "execution_count": null,
   "id": "f268065e",
   "metadata": {},
   "outputs": [],
   "source": [
    "# | export\n",
    "\n",
    "from airt._components.mono_dense_layer import (\n",
    "    MonoDense,\n",
    "    create_type_1,\n",
    "    create_type_2,\n",
    ")"
   ]
  },
  {
   "cell_type": "code",
   "execution_count": null,
   "id": "3a97bab9",
   "metadata": {},
   "outputs": [],
   "source": [
    "# | export\n",
    "\n",
    "\n",
    "def dummy() -> None:\n",
    "    pass\n",
    "\n",
    "\n",
    "dummy.__module__ = \"_dummy\""
   ]
  },
  {
   "cell_type": "code",
   "execution_count": null,
   "id": "bbc43ce8",
   "metadata": {},
   "outputs": [],
   "source": [
    "# | export\n",
    "\n",
    "__all__ = [\n",
    "    \"MonoDense\",\n",
    "    \"create_type_1\",\n",
    "    \"create_type_2\",\n",
    "]"
   ]
  }
 ],
 "metadata": {
  "kernelspec": {
   "display_name": "python3",
   "language": "python",
   "name": "python3"
  }
 },
 "nbformat": 4,
 "nbformat_minor": 5
}
