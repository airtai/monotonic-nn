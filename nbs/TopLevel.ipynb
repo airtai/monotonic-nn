{
 "cells": [
  {
   "cell_type": "code",
   "execution_count": null,
   "id": "78a8d312",
   "metadata": {},
   "outputs": [],
   "source": [
    "#| default_exp __init__"
   ]
  },
  {
   "cell_type": "code",
   "execution_count": null,
   "id": "5a232fc9",
   "metadata": {},
   "outputs": [],
   "source": [
    "#| export\n",
    "\n",
    "from pkgutil import extend_path"
   ]
  },
  {
   "cell_type": "code",
   "execution_count": null,
   "id": "38f6a09b",
   "metadata": {},
   "outputs": [],
   "source": [
    "#| export\n",
    "\n",
    "if \"__path__\" in globals():\n",
    "    __path__ = extend_path(__path__, __name__)"
   ]
  },
  {
   "cell_type": "code",
   "execution_count": null,
   "id": "79abd28e",
   "metadata": {},
   "outputs": [],
   "source": [
    "#| export\n",
    "\n",
    "def dummy() -> None:\n",
    "    pass\n",
    "\n",
    "__all__ = []"
   ]
  },
  {
   "cell_type": "code",
   "execution_count": null,
   "id": "a22fb481",
   "metadata": {},
   "outputs": [],
   "source": []
  }
 ],
 "metadata": {
  "kernelspec": {
   "display_name": "python3",
   "language": "python",
   "name": "python3"
  }
 },
 "nbformat": 4,
 "nbformat_minor": 5
}
