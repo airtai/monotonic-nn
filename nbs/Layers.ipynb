{
 "cells": [
  {
   "cell_type": "code",
   "execution_count": null,
   "id": "d1a55b47",
   "metadata": {},
   "outputs": [],
   "source": [
    "# | default_exp keras.layers.__init__"
   ]
  },
  {
   "cell_type": "code",
   "execution_count": null,
   "id": "f268065e",
   "metadata": {},
   "outputs": [
    {
     "name": "stderr",
     "output_type": "stream",
     "text": [
      "2023-06-09 08:44:40.637017: I tensorflow/core/platform/cpu_feature_guard.cc:182] This TensorFlow binary is optimized to use available CPU instructions in performance-critical operations.\n",
      "To enable the following instructions: AVX2 FMA, in other operations, rebuild TensorFlow with the appropriate compiler flags.\n"
     ]
    }
   ],
   "source": [
    "# | export\n",
    "\n",
    "import tensorflow as tf\n",
    "\n",
    "from airt._components.mono_dense_layer import MonoDense"
   ]
  },
  {
   "cell_type": "code",
   "execution_count": null,
   "id": "1c57d94e",
   "metadata": {},
   "outputs": [],
   "source": [
    "from pathlib import Path\n",
    "from tempfile import TemporaryDirectory\n",
    "\n",
    "import numpy as np"
   ]
  },
  {
   "cell_type": "code",
   "execution_count": null,
   "id": "3a97bab9",
   "metadata": {},
   "outputs": [],
   "source": [
    "# | export\n",
    "\n",
    "\n",
    "def dummy() -> None:\n",
    "    pass\n",
    "\n",
    "\n",
    "dummy.__module__ = \"_dummy\""
   ]
  },
  {
   "cell_type": "code",
   "execution_count": null,
   "id": "bbc43ce8",
   "metadata": {},
   "outputs": [],
   "source": [
    "# | export\n",
    "\n",
    "__all__ = [\"MonoDense\"]"
   ]
  },
  {
   "cell_type": "markdown",
   "id": "102c30d2",
   "metadata": {},
   "source": [
    "## Keras saving"
   ]
  },
  {
   "cell_type": "code",
   "execution_count": null,
   "id": "cbdeef7a",
   "metadata": {},
   "outputs": [],
   "source": [
    "# | export\n",
    "\n",
    "keras_package = \"airt.keras.layers\""
   ]
  },
  {
   "cell_type": "code",
   "execution_count": null,
   "id": "663ea83c",
   "metadata": {},
   "outputs": [],
   "source": [
    "keras_package = \"testing\""
   ]
  },
  {
   "cell_type": "code",
   "execution_count": null,
   "id": "d16950d1",
   "metadata": {},
   "outputs": [
    {
     "data": {
      "text/plain": [
       "airt.keras.layers.MonoDense"
      ]
     },
     "execution_count": null,
     "metadata": {},
     "output_type": "execute_result"
    }
   ],
   "source": [
    "# | export\n",
    "\n",
    "\n",
    "tf.keras.saving.register_keras_serializable(keras_package)(MonoDense)"
   ]
  },
  {
   "cell_type": "code",
   "execution_count": null,
   "id": "e1c0bfa4",
   "metadata": {},
   "outputs": [
    {
     "name": "stderr",
     "output_type": "stream",
     "text": [
      "2023-06-09 08:44:42.097033: E tensorflow/compiler/xla/stream_executor/cuda/cuda_driver.cc:266] failed call to cuInit: CUDA_ERROR_COMPAT_NOT_SUPPORTED_ON_DEVICE: forward compatibility was attempted on non supported HW\n",
      "2023-06-09 08:44:42.097065: I tensorflow/compiler/xla/stream_executor/cuda/cuda_diagnostics.cc:168] retrieving CUDA diagnostic information for host: 777faa4633a1\n",
      "2023-06-09 08:44:42.097071: I tensorflow/compiler/xla/stream_executor/cuda/cuda_diagnostics.cc:175] hostname: 777faa4633a1\n",
      "2023-06-09 08:44:42.097155: I tensorflow/compiler/xla/stream_executor/cuda/cuda_diagnostics.cc:199] libcuda reported version is: NOT_FOUND: was unable to find libcuda.so DSO loaded into this program\n",
      "2023-06-09 08:44:42.097175: I tensorflow/compiler/xla/stream_executor/cuda/cuda_diagnostics.cc:203] kernel reported version is: 470.182.3\n"
     ]
    },
    {
     "name": "stdout",
     "output_type": "stream",
     "text": [
      "Model: \"model\"\n",
      "_________________________________________________________________\n",
      " Layer (type)                Output Shape              Param #   \n",
      "=================================================================\n",
      " input_1 (InputLayer)        [(None, 1)]               0         \n",
      "                                                                 \n",
      " mono_dense (MonoDense)      (None, 17)                34        \n",
      "                                                                 \n",
      "=================================================================\n",
      "Total params: 34\n",
      "Trainable params: 34\n",
      "Non-trainable params: 0\n",
      "_________________________________________________________________\n",
      "WARNING:tensorflow:Compiled the loaded model, but the compiled metrics have yet to be built. `model.compile_metrics` will be empty until you train or evaluate the model.\n",
      "WARNING:tensorflow:No training configuration found in the save file, so the model was *not* compiled. Compile it manually.\n",
      "Model: \"model\"\n",
      "_________________________________________________________________\n",
      " Layer (type)                Output Shape              Param #   \n",
      "=================================================================\n",
      " input_1 (InputLayer)        [(None, 1)]               0         \n",
      "                                                                 \n",
      " mono_dense_1 (MonoDense)    (None, 17)                34        \n",
      "                                                                 \n",
      "=================================================================\n",
      "Total params: 34\n",
      "Trainable params: 34\n",
      "Non-trainable params: 0\n",
      "_________________________________________________________________\n",
      "32/32 [==============================] - 0s 660us/step\n",
      "32/32 [==============================] - 0s 609us/step\n"
     ]
    }
   ],
   "source": [
    "# test saving\n",
    "\n",
    "units = 17\n",
    "activation = \"relu\"\n",
    "\n",
    "inputs = tf.keras.layers.Input(shape=(1,))\n",
    "layer = MonoDense(units, activation=activation)\n",
    "\n",
    "layer.get_config()\n",
    "\n",
    "outputs = layer(inputs)\n",
    "\n",
    "model = tf.keras.Model(inputs=inputs, outputs=outputs)\n",
    "model.summary()\n",
    "\n",
    "with TemporaryDirectory() as d:\n",
    "    path = (Path(d) / \"mono_model.h5\").resolve()\n",
    "    model.save(str(path))\n",
    "\n",
    "    loaded_model = tf.keras.models.load_model(str(path))\n",
    "\n",
    "loaded_model.summary()\n",
    "\n",
    "loaded_model.get_config(), model.get_config()\n",
    "\n",
    "rng = np.random.default_rng(42)\n",
    "x = rng.normal(size=1000).reshape((-1, 1))\n",
    "\n",
    "expected = model.predict(x)\n",
    "actual = loaded_model.predict(x)\n",
    "np.testing.assert_array_almost_equal(actual, expected)"
   ]
  },
  {
   "cell_type": "code",
   "execution_count": null,
   "id": "19c16956",
   "metadata": {},
   "outputs": [],
   "source": []
  }
 ],
 "metadata": {
  "kernelspec": {
   "display_name": "python3",
   "language": "python",
   "name": "python3"
  }
 },
 "nbformat": 4,
 "nbformat_minor": 5
}
