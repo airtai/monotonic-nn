{
 "cells": [
  {
   "cell_type": "code",
   "execution_count": null,
   "id": "b571a688",
   "metadata": {},
   "outputs": [],
   "source": [
    "from create_api_docs import _get_submodules"
   ]
  },
  {
   "cell_type": "code",
   "execution_count": null,
   "id": "eb1a66ad",
   "metadata": {},
   "outputs": [],
   "source": [
    "_get_submodules(\"monotonic\")"
   ]
  },
  {
   "cell_type": "code",
   "execution_count": 2,
   "id": "d1ad2c99",
   "metadata": {},
   "outputs": [
    {
     "name": "stdout",
     "output_type": "stream",
     "text": [
      "['monotonic-nn', 'monotonic.__about__', 'monotonic._components', 'monotonic.keras', 'monotonic.keras.experiments', 'monotonic.keras.layers']\n"
     ]
    }
   ],
   "source": [
    "from pkgutil import walk_packages\n",
    "from importlib import import_module\n",
    "\n",
    "def get_submodules(package_name: str, module_name: str):\n",
    "    \"\"\"Get all submodules of a package.\n",
    "\n",
    "    Args:\n",
    "        package_name: The name of the package (e.g., 'monotonic-nn').\n",
    "        module_name: The top-level module name (e.g., 'monotonic').\n",
    "\n",
    "    Returns:\n",
    "        A list of submodule names.\n",
    "    \"\"\"\n",
    "    try:\n",
    "        # Import the top-level module\n",
    "        module = import_module(module_name)\n",
    "    except ModuleNotFoundError:\n",
    "        raise e\n",
    "\n",
    "    # Ensure the module has a __path__ attribute (required for walk_packages)\n",
    "    if not hasattr(module, \"__path__\"):\n",
    "        raise ValueError(f\"'{module_name}' is not a package.\")\n",
    "\n",
    "    # Use walk_packages to find submodules\n",
    "    submodules = [\n",
    "        info.name for info in walk_packages(module.__path__, prefix=f\"{module_name}.\")\n",
    "    ]\n",
    "    return [package_name, *submodules]\n",
    "\n",
    "# Example usage\n",
    "package_name = \"monotonic-nn\"\n",
    "module_name = \"monotonic\"  # Top-level module name\n",
    "submodules = get_submodules(package_name, module_name)\n",
    "print(submodules)"
   ]
  },
  {
   "cell_type": "code",
   "execution_count": null,
   "id": "97c0d13d",
   "metadata": {},
   "outputs": [],
   "source": [
    "get_submodules(\"monotonic-nn\")"
   ]
  },
  {
   "cell_type": "code",
   "execution_count": null,
   "id": "b420b49a",
   "metadata": {},
   "outputs": [],
   "source": []
  }
 ],
 "metadata": {
  "kernelspec": {
   "display_name": ".venv-3.9",
   "language": "python",
   "name": "python3"
  },
  "language_info": {
   "codemirror_mode": {
    "name": "ipython",
    "version": 3
   },
   "file_extension": ".py",
   "mimetype": "text/x-python",
   "name": "python",
   "nbconvert_exporter": "python",
   "pygments_lexer": "ipython3",
   "version": "3.9.22"
  }
 },
 "nbformat": 4,
 "nbformat_minor": 5
}
